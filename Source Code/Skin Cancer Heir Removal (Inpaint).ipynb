{
 "cells": [
  {
   "cell_type": "code",
   "execution_count": 1,
   "id": "ab63482b-aab0-40a1-baa3-6cd6a0335e17",
   "metadata": {},
   "outputs": [
    {
     "name": "stdout",
     "output_type": "stream",
     "text": [
      "Hair removal process completed. Processed images are saved in the output folder.\n"
     ]
    }
   ],
   "source": [
    "import cv2\n",
    "import os\n",
    "import numpy as np\n",
    "\n",
    "# Path to the input folder containing skin cancer images\n",
    "input_folder_path = 'F:/Preprocessing (Skin Data )/Dataset RAW/actinic keratosis'\n",
    "# Path to the output folder to save images after hair removal\n",
    "output_folder_path = 'F:/Preprocessing (Skin Data )/Applied Inpainting/actinic keratosis'\n",
    "os.makedirs(output_folder_path, exist_ok=True)\n",
    "\n",
    "# Function to remove hair from an image\n",
    "def remove_hair(image):\n",
    "    # Convert image to grayscale\n",
    "    gray = cv2.cvtColor(image, cv2.COLOR_BGR2GRAY)\n",
    "    \n",
    "    # Use a morphological operation (blackhat) with a rectangular kernel\n",
    "    kernel = cv2.getStructuringElement(cv2.MORPH_RECT, (17, 17))\n",
    "    blackhat = cv2.morphologyEx(gray, cv2.MORPH_BLACKHAT, kernel)\n",
    "    \n",
    "    # Threshold the blackhat image to create a binary mask of the hair\n",
    "    _, thresh = cv2.threshold(blackhat, 10, 255, cv2.THRESH_BINARY)\n",
    "    \n",
    "    # Inpaint the original image using the mask\n",
    "    result = cv2.inpaint(image, thresh, inpaintRadius=1, flags=cv2.INPAINT_TELEA)\n",
    "    \n",
    "    return result\n",
    "\n",
    "# Loop through each image in the input folder and apply hair removal\n",
    "for file_name in os.listdir(input_folder_path):\n",
    "    image_path = os.path.join(input_folder_path, file_name)\n",
    "    image = cv2.imread(image_path)\n",
    "    \n",
    "    if image is not None:\n",
    "        # Apply hair removal\n",
    "        hair_removed_image = remove_hair(image)\n",
    "        \n",
    "        # Save the processed image to the output folder\n",
    "        output_image_path = os.path.join(output_folder_path, file_name)\n",
    "        cv2.imwrite(output_image_path, hair_removed_image)\n",
    "\n",
    "print(\"Hair removal process completed. Processed images are saved in the output folder.\")\n"
   ]
  },
  {
   "cell_type": "code",
   "execution_count": null,
   "id": "057fec51-db5c-4275-8c5c-a509e60ee6ae",
   "metadata": {},
   "outputs": [],
   "source": []
  }
 ],
 "metadata": {
  "kernelspec": {
   "display_name": "Python 3 (ipykernel)",
   "language": "python",
   "name": "python3"
  },
  "language_info": {
   "codemirror_mode": {
    "name": "ipython",
    "version": 3
   },
   "file_extension": ".py",
   "mimetype": "text/x-python",
   "name": "python",
   "nbconvert_exporter": "python",
   "pygments_lexer": "ipython3",
   "version": "3.12.4"
  }
 },
 "nbformat": 4,
 "nbformat_minor": 5
}
